{
  "nbformat": 4,
  "nbformat_minor": 0,
  "metadata": {
    "colab": {
      "name": "twitter api and nlp.ipynb",
      "provenance": [],
      "collapsed_sections": [],
      "authorship_tag": "ABX9TyNoA5Hn/SWk/zCaMe941lz2",
      "include_colab_link": true
    },
    "kernelspec": {
      "name": "python3",
      "display_name": "Python 3"
    }
  },
  "cells": [
    {
      "cell_type": "markdown",
      "metadata": {
        "id": "view-in-github",
        "colab_type": "text"
      },
      "source": [
        "<a href=\"https://colab.research.google.com/github/abhi005/tweet_nlp_analysis/blob/master/twitter_api_and_nlp.ipynb\" target=\"_parent\"><img src=\"https://colab.research.google.com/assets/colab-badge.svg\" alt=\"Open In Colab\"/></a>"
      ]
    },
    {
      "cell_type": "code",
      "metadata": {
        "id": "l8Q7Shr66R0d",
        "colab_type": "code",
        "colab": {}
      },
      "source": [
        "import datetime\n",
        "\n",
        "class TweetMiner(object):\n",
        "\n",
        "    def __init__(self, api, result_limit = 20):\n",
        "        \n",
        "        self.api = api        \n",
        "        self.result_limit = result_limit\n",
        "        \n",
        "    def mine_user_tweets(self, user=\"HillaryClinton\", mine_retweets=False, max_pages=20):\n",
        "\n",
        "        data           =  []\n",
        "        last_tweet_id  =  False\n",
        "        page           =  1\n",
        "        \n",
        "        while page <= max_pages:\n",
        "            \n",
        "            if last_tweet_id:\n",
        "                statuses   =   self.api.statuses.user_timeline(screen_name=user, count=self.result_limit, max_id=last_tweet_id - 1, include_rts=mine_retweets, tweet_mode='extended')\n",
        "            else:\n",
        "                statuses   =   self.api.statuses.user_timeline(screen_name=user, count=self.result_limit, include_rts=mine_retweets, tweet_mode='extended')\n",
        "                \n",
        "            for item in statuses:\n",
        "                # Using try except here.\n",
        "                # When retweets = 0 we get an error (GetUserTimeline fails to create a key, 'retweet_count')\n",
        "                try:\n",
        "                    mined = {\n",
        "                        'tweet_id':        item['id'],\n",
        "                        'handle':          item['user']['screen_name'],\n",
        "                        'retweet_count':   item['retweet_count'],\n",
        "                        'text':            item['full_text'],\n",
        "                        'mined_at':        datetime.datetime.now(),\n",
        "                        'created_at':      item['created_at'],\n",
        "                    }\n",
        "                \n",
        "                except:\n",
        "                        mined = {\n",
        "                        'tweet_id':        item['id'],\n",
        "                        'handle':          item['user']['screen_name'],\n",
        "                        'retweet_count':   0,\n",
        "                        'text':            item['full_text'],\n",
        "                        'mined_at':        datetime.datetime.now(),\n",
        "                        'created_at':      item['created_at'],\n",
        "                    }\n",
        "                \n",
        "                last_tweet_id = item['id']\n",
        "                data.append(mined)\n",
        "                \n",
        "            page += 1\n",
        "            \n",
        "        return data"
      ],
      "execution_count": null,
      "outputs": []
    },
    {
      "cell_type": "code",
      "metadata": {
        "id": "HsrYzC5GFN3b",
        "colab_type": "code",
        "colab": {
          "base_uri": "https://localhost:8080/",
          "height": 101
        },
        "outputId": "69af5619-defe-4dbc-e198-8ef5b3c0c8e5"
      },
      "source": [
        "pip install twitter"
      ],
      "execution_count": null,
      "outputs": [
        {
          "output_type": "stream",
          "text": [
            "Collecting twitter\n",
            "\u001b[?25l  Downloading https://files.pythonhosted.org/packages/85/e2/f602e3f584503f03e0389491b251464f8ecfe2596ac86e6b9068fe7419d3/twitter-1.18.0-py2.py3-none-any.whl (54kB)\n",
            "\r\u001b[K     |██████                          | 10kB 17.2MB/s eta 0:00:01\r\u001b[K     |████████████                    | 20kB 1.7MB/s eta 0:00:01\r\u001b[K     |██████████████████              | 30kB 2.2MB/s eta 0:00:01\r\u001b[K     |████████████████████████        | 40kB 2.5MB/s eta 0:00:01\r\u001b[K     |██████████████████████████████▏ | 51kB 2.0MB/s eta 0:00:01\r\u001b[K     |████████████████████████████████| 61kB 1.9MB/s \n",
            "\u001b[?25hInstalling collected packages: twitter\n",
            "Successfully installed twitter-1.18.0\n"
          ],
          "name": "stdout"
        }
      ]
    },
    {
      "cell_type": "code",
      "metadata": {
        "id": "ywTUCSePEx3n",
        "colab_type": "code",
        "colab": {}
      },
      "source": [
        "from twitter import *\n",
        "\n",
        "twitter_keys = {\n",
        "    'consumer_key':        'L4sziHBqV4VUIfKezbos0JMVl',\n",
        "    'consumer_secret':     'lJau6R7GIHFwoGR5wB3PlLQPXBChwzJFJ9WGXXtazcDSA1Vb1X',\n",
        "    'access_token_key':    '941359629606539264-05XcmQfdwMXTbPNWS3r7cZThvbQBxCK',\n",
        "    'access_token_secret': 'VdE3VJVk6oxbohQGcw7WYA5Tg4Sr8kW9duTO1wxmB6qXk'\n",
        "}\n",
        "\n",
        "api = Twitter(auth=OAuth(twitter_keys['access_token_key'], twitter_keys['access_token_secret'], twitter_keys['consumer_key'], twitter_keys['consumer_secret']))"
      ],
      "execution_count": null,
      "outputs": []
    },
    {
      "cell_type": "code",
      "metadata": {
        "id": "O6wWAHfhGSjx",
        "colab_type": "code",
        "colab": {
          "base_uri": "https://localhost:8080/",
          "height": 34
        },
        "outputId": "a65a7e80-93b5-40be-9554-55ace5362a27"
      },
      "source": [
        "type(api)"
      ],
      "execution_count": null,
      "outputs": [
        {
          "output_type": "execute_result",
          "data": {
            "text/plain": [
              "twitter.api.Twitter"
            ]
          },
          "metadata": {
            "tags": []
          },
          "execution_count": 4
        }
      ]
    },
    {
      "cell_type": "code",
      "metadata": {
        "id": "QcuM03boGeH1",
        "colab_type": "code",
        "colab": {
          "base_uri": "https://localhost:8080/",
          "height": 1000
        },
        "outputId": "6613d0f8-8fa0-4435-810e-d8ede34186c2"
      },
      "source": [
        "tweets = api.statuses.user_timeline(screen_name=\"HillaryClinton\", count=20, include_rts=False)\n",
        "tweets[1]"
      ],
      "execution_count": null,
      "outputs": [
        {
          "output_type": "execute_result",
          "data": {
            "text/plain": [
              "{'contributors': None,\n",
              " 'coordinates': None,\n",
              " 'created_at': 'Fri Jun 12 17:32:03 +0000 2020',\n",
              " 'entities': {'hashtags': [],\n",
              "  'symbols': [],\n",
              "  'urls': [{'display_url': 'twitter.com/i/web/status/1…',\n",
              "    'expanded_url': 'https://twitter.com/i/web/status/1271495492577439744',\n",
              "    'indices': [117, 140],\n",
              "    'url': 'https://t.co/Em9fGKNrg6'}],\n",
              "  'user_mentions': [{'id': 821424486868254720,\n",
              "    'id_str': '821424486868254720',\n",
              "    'indices': [79, 94],\n",
              "    'name': 'Onward Together',\n",
              "    'screen_name': 'OnwardTogether'},\n",
              "   {'id': 2294811674,\n",
              "    'id_str': '2294811674',\n",
              "    'indices': [103, 113],\n",
              "    'name': 'iVote',\n",
              "    'screen_name': 'iVoteFund'}]},\n",
              " 'favorite_count': 3909,\n",
              " 'favorited': False,\n",
              " 'geo': None,\n",
              " 'id': 1271495492577439744,\n",
              " 'id_str': '1271495492577439744',\n",
              " 'in_reply_to_screen_name': None,\n",
              " 'in_reply_to_status_id': None,\n",
              " 'in_reply_to_status_id_str': None,\n",
              " 'in_reply_to_user_id': None,\n",
              " 'in_reply_to_user_id_str': None,\n",
              " 'is_quote_status': True,\n",
              " 'lang': 'en',\n",
              " 'place': None,\n",
              " 'possibly_sensitive': False,\n",
              " 'quoted_status': {'contributors': None,\n",
              "  'coordinates': None,\n",
              "  'created_at': 'Thu Jun 11 20:26:35 +0000 2020',\n",
              "  'entities': {'hashtags': [],\n",
              "   'symbols': [],\n",
              "   'urls': [{'display_url': 'twitter.com/i/web/status/1…',\n",
              "     'expanded_url': 'https://twitter.com/i/web/status/1271177027538898945',\n",
              "     'indices': [117, 140],\n",
              "     'url': 'https://t.co/UqeTiVopqr'}],\n",
              "   'user_mentions': []},\n",
              "  'favorite_count': 131,\n",
              "  'favorited': False,\n",
              "  'geo': None,\n",
              "  'id': 1271177027538898945,\n",
              "  'id_str': '1271177027538898945',\n",
              "  'in_reply_to_screen_name': None,\n",
              "  'in_reply_to_status_id': None,\n",
              "  'in_reply_to_status_id_str': None,\n",
              "  'in_reply_to_user_id': None,\n",
              "  'in_reply_to_user_id_str': None,\n",
              "  'is_quote_status': False,\n",
              "  'lang': 'en',\n",
              "  'place': None,\n",
              "  'possibly_sensitive': False,\n",
              "  'retweet_count': 75,\n",
              "  'retweeted': False,\n",
              "  'source': '<a href=\"https://mobile.twitter.com\" rel=\"nofollow\">Twitter Web App</a>',\n",
              "  'text': 'New: iVote Civic Education Fund launched a $20 million campaign today to educate voters about the changes to states… https://t.co/UqeTiVopqr',\n",
              "  'truncated': True,\n",
              "  'user': {'contributors_enabled': False,\n",
              "   'created_at': 'Tue Mar 18 00:47:33 +0000 2008',\n",
              "   'default_profile': False,\n",
              "   'default_profile_image': False,\n",
              "   'description': 'National Political Reporter, Bloomberg News | Past: @nytimes, @bostonglobe, @politico, @USATODAY | @UniofOxford, @NorthwesternU alum | tpager1@bloomberg.net',\n",
              "   'entities': {'description': {'urls': []},\n",
              "    'url': {'urls': [{'display_url': 'tylerpager.com',\n",
              "       'expanded_url': 'http://www.tylerpager.com',\n",
              "       'indices': [0, 23],\n",
              "       'url': 'https://t.co/IEe1lrU7Hh'}]}},\n",
              "   'favourites_count': 700,\n",
              "   'follow_request_sent': False,\n",
              "   'followers_count': 6675,\n",
              "   'following': False,\n",
              "   'friends_count': 1123,\n",
              "   'geo_enabled': True,\n",
              "   'has_extended_profile': False,\n",
              "   'id': 14167059,\n",
              "   'id_str': '14167059',\n",
              "   'is_translation_enabled': False,\n",
              "   'is_translator': False,\n",
              "   'lang': None,\n",
              "   'listed_count': 204,\n",
              "   'location': 'Washington, DC',\n",
              "   'name': 'Tyler Pager',\n",
              "   'notifications': False,\n",
              "   'profile_background_color': '0E55A3',\n",
              "   'profile_background_image_url': 'http://abs.twimg.com/images/themes/theme1/bg.png',\n",
              "   'profile_background_image_url_https': 'https://abs.twimg.com/images/themes/theme1/bg.png',\n",
              "   'profile_background_tile': False,\n",
              "   'profile_banner_url': 'https://pbs.twimg.com/profile_banners/14167059/1547763911',\n",
              "   'profile_image_url': 'http://pbs.twimg.com/profile_images/1073987733335420929/rH7y7ZcJ_normal.jpg',\n",
              "   'profile_image_url_https': 'https://pbs.twimg.com/profile_images/1073987733335420929/rH7y7ZcJ_normal.jpg',\n",
              "   'profile_link_color': '0000FF',\n",
              "   'profile_sidebar_border_color': '87BC44',\n",
              "   'profile_sidebar_fill_color': 'E0FF92',\n",
              "   'profile_text_color': '000000',\n",
              "   'profile_use_background_image': False,\n",
              "   'protected': False,\n",
              "   'screen_name': 'tylerpager',\n",
              "   'statuses_count': 3245,\n",
              "   'time_zone': None,\n",
              "   'translator_type': 'none',\n",
              "   'url': 'https://t.co/IEe1lrU7Hh',\n",
              "   'utc_offset': None,\n",
              "   'verified': True}},\n",
              " 'quoted_status_id': 1271177027538898945,\n",
              " 'quoted_status_id_str': '1271177027538898945',\n",
              " 'retweet_count': 974,\n",
              " 'retweeted': False,\n",
              " 'source': '<a href=\"https://mobile.twitter.com\" rel=\"nofollow\">Twitter Web App</a>',\n",
              " 'text': 'Every American voter should be able to easily cast their ballot. Grateful that @OnwardTogether partner @iVoteFund i… https://t.co/Em9fGKNrg6',\n",
              " 'truncated': True,\n",
              " 'user': {'contributors_enabled': False,\n",
              "  'created_at': 'Tue Apr 09 18:04:35 +0000 2013',\n",
              "  'default_profile': False,\n",
              "  'default_profile_image': False,\n",
              "  'description': '2016 Democratic Nominee, SecState, Senator, hair icon. Mom, Wife, Grandma x3, lawyer, advocate, fan of walks in the woods & standing up for our democracy.',\n",
              "  'entities': {'description': {'urls': []},\n",
              "   'url': {'urls': [{'display_url': 'onwardtogether.org',\n",
              "      'expanded_url': 'http://onwardtogether.org',\n",
              "      'indices': [0, 23],\n",
              "      'url': 'https://t.co/99DVW9q1yt'}]}},\n",
              "  'favourites_count': 1118,\n",
              "  'follow_request_sent': False,\n",
              "  'followers_count': 28144270,\n",
              "  'following': False,\n",
              "  'friends_count': 840,\n",
              "  'geo_enabled': False,\n",
              "  'has_extended_profile': True,\n",
              "  'id': 1339835893,\n",
              "  'id_str': '1339835893',\n",
              "  'is_translation_enabled': False,\n",
              "  'is_translator': False,\n",
              "  'lang': None,\n",
              "  'listed_count': 39991,\n",
              "  'location': 'New York, NY',\n",
              "  'name': 'Hillary Clinton',\n",
              "  'notifications': False,\n",
              "  'profile_background_color': '0057B8',\n",
              "  'profile_background_image_url': 'http://abs.twimg.com/images/themes/theme1/bg.png',\n",
              "  'profile_background_image_url_https': 'https://abs.twimg.com/images/themes/theme1/bg.png',\n",
              "  'profile_background_tile': False,\n",
              "  'profile_banner_url': 'https://pbs.twimg.com/profile_banners/1339835893/1539631689',\n",
              "  'profile_image_url': 'http://pbs.twimg.com/profile_images/1265671910169489410/qO82RUjP_normal.jpg',\n",
              "  'profile_image_url_https': 'https://pbs.twimg.com/profile_images/1265671910169489410/qO82RUjP_normal.jpg',\n",
              "  'profile_link_color': '0057B8',\n",
              "  'profile_sidebar_border_color': '000000',\n",
              "  'profile_sidebar_fill_color': '000000',\n",
              "  'profile_text_color': '000000',\n",
              "  'profile_use_background_image': False,\n",
              "  'protected': False,\n",
              "  'screen_name': 'HillaryClinton',\n",
              "  'statuses_count': 11700,\n",
              "  'time_zone': None,\n",
              "  'translator_type': 'none',\n",
              "  'url': 'https://t.co/99DVW9q1yt',\n",
              "  'utc_offset': None,\n",
              "  'verified': True}}"
            ]
          },
          "metadata": {
            "tags": []
          },
          "execution_count": 5
        }
      ]
    },
    {
      "cell_type": "code",
      "metadata": {
        "id": "P8p-eQl_Hdsh",
        "colab_type": "code",
        "colab": {
          "base_uri": "https://localhost:8080/",
          "height": 1000
        },
        "outputId": "79e127a0-dc8f-41b5-98f8-a4b18ca607c2"
      },
      "source": [
        "for t in tweets:\n",
        "  print(t['id'])\n",
        "  print(t['text'])\n",
        "  print('-------------')"
      ],
      "execution_count": null,
      "outputs": [
        {
          "output_type": "stream",
          "text": [
            "1271504716124565504\n",
            "The lawyer (and mom, and Democrat) in me wants to make sure you know your rights as a protester. Be safe this weeke… https://t.co/bmObMAWvCn\n",
            "-------------\n",
            "1271495492577439744\n",
            "Every American voter should be able to easily cast their ballot. Grateful that @OnwardTogether partner @iVoteFund i… https://t.co/Em9fGKNrg6\n",
            "-------------\n",
            "1271473287047057409\n",
            "If your rallies come with a liability waiver, you shouldn’t be holding them. https://t.co/J1BgdUec9k\n",
            "-------------\n",
            "1271464892520894464\n",
            "This chart tells an incredible story of the power of Black Lives Matter as a mass movement. \n",
            "\n",
            "Your fellow Americans… https://t.co/NdpvQi3Hpn\n",
            "-------------\n",
            "1271140195593867266\n",
            "For the Brits: \"Hillary\" is now available on @SkyTV. #SkyDocumentaries https://t.co/U2hB5oXvUD\n",
            "-------------\n",
            "1271107441443459072\n",
            "Good news in the fight against voter suppression: @KingJames is coming onto the court. https://t.co/oyCC6vNSEr\n",
            "-------------\n",
            "1271085120032825344\n",
            "COVID-19 is still killing hundreds of Americans a day and strangling our economy. \n",
            "\n",
            "Meanwhile, the Trump administra… https://t.co/hG8Tj8Xikl\n",
            "-------------\n",
            "1271081902674411520\n",
            "Thanks again to @ZerlinaMaxwell for being my partner for #ShareTheMicNow. \n",
            "\n",
            "Follow her to get her brilliant politic… https://t.co/DmvDt8KvEU\n",
            "-------------\n",
            "1270859728478969856\n",
            "Only sometimes. https://t.co/BSFVEeHXsk\n",
            "-------------\n",
            "1270762481405898756\n",
            "I'm honored to hand over my Instagram page today to @ZerlinaMaxwell as part of #ShareTheMicNow, a project to amplif… https://t.co/teyOtTZH1A\n",
            "-------------\n",
            "1270726266992226305\n",
            "Commit now to help make sure no voter is disenfranchised by long lines, broken machines, or failed systems this fal… https://t.co/EZu7WOyO6A\n",
            "-------------\n",
            "1270726057692327937\n",
            "What happened in Georgia yesterday was by design.\n",
            "\n",
            "Voter suppression is a threat to our democracy. https://t.co/XDyeabKFoc\n",
            "-------------\n",
            "1270461755484000256\n",
            "Women's leadership and participation are crucial to building a more resilient and inclusive post-pandemic world.… https://t.co/HMXivAcqCJ\n",
            "-------------\n",
            "1270445703404425218\n",
            "You don’t say. https://t.co/dcQcvgrqlB\n",
            "-------------\n",
            "1270441557737574400\n",
            "Georgia voters: Thank you for your determination to cast your ballots today despite the failure of officials to pro… https://t.co/a4LBBUMgzC\n",
            "-------------\n",
            "1270432396152844288\n",
            "Voting by mail is both safe and secure. “Officials identified just 372 possible cases of double voting or voting on… https://t.co/zgenoDDzaE\n",
            "-------------\n",
            "1270392360648704002\n",
            "Every 13 minutes, a woman in the United States dies of breast cancer. Last July, one of them was my best friend fro… https://t.co/ePaNfUad28\n",
            "-------------\n",
            "1270382501316435974\n",
            "Five states have primaries today. Get all the information you need to vote safely at https://t.co/XxqIHEVSCI. https://t.co/TVWxETEOKW\n",
            "-------------\n"
          ],
          "name": "stdout"
        }
      ]
    },
    {
      "cell_type": "code",
      "metadata": {
        "id": "X2w4dntaNy_n",
        "colab_type": "code",
        "colab": {}
      },
      "source": [
        "miner = TweetMiner(api, result_limit=200)"
      ],
      "execution_count": null,
      "outputs": []
    },
    {
      "cell_type": "code",
      "metadata": {
        "id": "p0tQoBXhOEWP",
        "colab_type": "code",
        "colab": {}
      },
      "source": [
        "rahul = miner.mine_user_tweets(user='RahulGandhi', max_pages=14)\n",
        "modi = miner.mine_user_tweets(user='narendramodi', max_pages=14)"
      ],
      "execution_count": null,
      "outputs": []
    },
    {
      "cell_type": "code",
      "metadata": {
        "id": "Bzp8vmMpOlP5",
        "colab_type": "code",
        "colab": {
          "base_uri": "https://localhost:8080/",
          "height": 336
        },
        "outputId": "6bec6a43-0aef-4cb5-9476-ee780c343f85"
      },
      "source": [
        "for i in range(5):\n",
        "  print(rahul[i]['text'])\n",
        "  print('-------------')"
      ],
      "execution_count": null,
      "outputs": [
        {
          "output_type": "stream",
          "text": [
            "This lock down proves that:\n",
            "\n",
            "“The only thing more dangerous than ignorance is arrogance.”\n",
            "Albert Einstein https://t.co/XkykIxsYKI\n",
            "-------------\n",
            "I am sorry to hear about the passing of #SushantSinghRajput. A young &amp; talented actor, gone too soon. My condolences to his family, friends &amp; fans across the world.\n",
            "-------------\n",
            "If GOI doesn’t inject cash to start the economy now: \n",
            "\n",
            "1. The poor will be decimated.\n",
            "2. The middle class will become the new poor.\n",
            "3. Crony capitalists will own the entire country. https://t.co/fEmEKONOMF\n",
            "-------------\n",
            "”Insanity is doing the same thing over and over again and expecting different results.” - Anonymous https://t.co/tdkS3dK8qm\n",
            "-------------\n",
            "India is firmly on it's way to winning the wrong race. \n",
            "\n",
            "A horrific tragedy, resulting from a lethal blend of arrogance and incompetence. https://t.co/NB2OzXPGCX\n",
            "-------------\n"
          ],
          "name": "stdout"
        }
      ]
    },
    {
      "cell_type": "code",
      "metadata": {
        "id": "BW4NlTEZOtZs",
        "colab_type": "code",
        "colab": {
          "base_uri": "https://localhost:8080/",
          "height": 440
        },
        "outputId": "c5e1238d-cd23-4d2e-a496-6ddd8b065934"
      },
      "source": [
        "for i in range(5):\n",
        "  print(modi[i]['text'])\n",
        "  print('-------------')"
      ],
      "execution_count": null,
      "outputs": [
        {
          "output_type": "stream",
          "text": [
            "Sushant Singh Rajput...a bright young actor gone too soon. He excelled on TV and in films. His rise in the world of entertainment inspired many and he leaves behind several memorable performances. Shocked by his passing away. My thoughts are with his family and fans. Om Shanti.\n",
            "-------------\n",
            "Greetings on the very special festival of Raja Parba. May this occasion strengthen the spirit of joy and brotherhood in society. I also pray for the good health and well-being of my fellow citizens.\n",
            "-------------\n",
            "ବିଶେଷ ଉତ୍ସବ ‘ରଜ ପର୍ବ’ ଅବସରରେ ଓଡ଼ିଶାବାସୀଙ୍କୁ ହାର୍ଦ୍ଦିକ ଶୁଭକାମନା । ଏହି ଅବସର ଆମ ସମାଜରେ ଆନନ୍ଦ ଓ ଭାତୃତ୍ୱକୁ ଆହୁରି ଦୃଢ଼ କରୁ । ରାଜ୍ୟବାସୀଙ୍କର ଉତ୍ତମ ସ୍ୱାସ୍ଥ୍ୟ ଓ ଉତ୍ତୋରତ୍ତର ଉନ୍ନତି କାମନା କରୁଛି ।\n",
            "-------------\n",
            "Your ideas have always been the strength of #MannKiBaat, making it a vibrant platform that showcases the strengths of 130 crore Indians!\n",
            "\n",
            "Record your message:\n",
            "\n",
            "Dial 1800-11-7800\n",
            "\n",
            "Write on:\n",
            "\n",
            "NaMo App.\n",
            "\n",
            "MyGov Open Forum. https://t.co/UDEIWKoTpX\n",
            "-------------\n",
            "This month’s #MannKiBaat will take place on the 28th. \n",
            "\n",
            "Though 2 weeks away, please keep the ideas and inputs coming! It’ll enable me to go through maximum number of comments and phone calls. \n",
            "\n",
            "Am sure you’ll have much to say, on fighting COVID-19 and topics in addition to that.\n",
            "-------------\n"
          ],
          "name": "stdout"
        }
      ]
    },
    {
      "cell_type": "code",
      "metadata": {
        "id": "nJ911CRaO3rB",
        "colab_type": "code",
        "colab": {}
      },
      "source": [
        "import pandas as pd\n",
        "rahul_df = pd.DataFrame(rahul)\n",
        "modi_df = pd.DataFrame(modi)"
      ],
      "execution_count": null,
      "outputs": []
    },
    {
      "cell_type": "code",
      "metadata": {
        "id": "ikVFH3ZpTOGo",
        "colab_type": "code",
        "colab": {
          "base_uri": "https://localhost:8080/",
          "height": 34
        },
        "outputId": "35bf64ec-d302-4d15-90df-4fec9a35bf92"
      },
      "source": [
        "rahul_df.shape"
      ],
      "execution_count": null,
      "outputs": [
        {
          "output_type": "execute_result",
          "data": {
            "text/plain": [
              "(2543, 6)"
            ]
          },
          "metadata": {
            "tags": []
          },
          "execution_count": 12
        }
      ]
    },
    {
      "cell_type": "code",
      "metadata": {
        "id": "9ctBhZgQTUDd",
        "colab_type": "code",
        "colab": {
          "base_uri": "https://localhost:8080/",
          "height": 34
        },
        "outputId": "7c488630-c54a-4009-ce90-40449b698756"
      },
      "source": [
        "modi_df.shape"
      ],
      "execution_count": null,
      "outputs": [
        {
          "output_type": "execute_result",
          "data": {
            "text/plain": [
              "(2784, 6)"
            ]
          },
          "metadata": {
            "tags": []
          },
          "execution_count": 13
        }
      ]
    },
    {
      "cell_type": "code",
      "metadata": {
        "id": "bhz0WNqnTWan",
        "colab_type": "code",
        "colab": {
          "base_uri": "https://localhost:8080/",
          "height": 34
        },
        "outputId": "1c94211a-15b3-42e9-bad6-a3d7284a8460"
      },
      "source": [
        "tweets = pd.concat([rahul_df, modi_df], axis=0)\n",
        "tweets.shape"
      ],
      "execution_count": null,
      "outputs": [
        {
          "output_type": "execute_result",
          "data": {
            "text/plain": [
              "(5327, 6)"
            ]
          },
          "metadata": {
            "tags": []
          },
          "execution_count": 14
        }
      ]
    },
    {
      "cell_type": "code",
      "metadata": {
        "id": "gvtm2iaUToJ-",
        "colab_type": "code",
        "colab": {
          "base_uri": "https://localhost:8080/",
          "height": 353
        },
        "outputId": "17179fa0-7c27-4a4d-880f-11a41934c0c1"
      },
      "source": [
        "from sklearn.feature_extraction.text import TfidfVectorizer\n",
        "from collections import Counter\n",
        "\n",
        "# We can use the TfidfVectorizer to find ngrams for us\n",
        "vect = TfidfVectorizer(ngram_range=(3,5), stop_words='english')\n",
        "\n",
        "# Pulls all of trumps tweet text's into one giant string\n",
        "summaries = \"\".join(modi_df['text'])\n",
        "ngrams_summaries = vect.build_analyzer()(summaries)\n",
        "\n",
        "Counter(ngrams_summaries).most_common(20)"
      ],
      "execution_count": null,
      "outputs": [
        {
          "output_type": "execute_result",
          "data": {
            "text/plain": [
              "[('fight covid 19', 44),\n",
              " ('long healthy life', 41),\n",
              " ('130 crore indians', 27),\n",
              " ('covid 19 pandemic', 19),\n",
              " ('battle covid 19', 18),\n",
              " ('contributing pm cares', 17),\n",
              " ('covid 19 indiafightscorona', 16),\n",
              " ('19 indiafightscorona https', 16),\n",
              " ('covid 19 indiafightscorona https', 16),\n",
              " ('उनक जय पर', 15),\n",
              " ('covid 19 https', 13),\n",
              " ('बह बह बध', 13),\n",
              " ('wide range subjects', 13),\n",
              " ('fighting covid 19', 12),\n",
              " ('covid 19 situation', 12),\n",
              " ('battling covid 19', 12),\n",
              " ('namo app https', 12),\n",
              " ('bal shakti puraskar', 12),\n",
              " ('jammu kashmir ladakh', 12),\n",
              " ('1800 11 7800', 11)]"
            ]
          },
          "metadata": {
            "tags": []
          },
          "execution_count": 15
        }
      ]
    },
    {
      "cell_type": "code",
      "metadata": {
        "id": "KL6QsYJZVWUi",
        "colab_type": "code",
        "colab": {
          "base_uri": "https://localhost:8080/",
          "height": 353
        },
        "outputId": "5546b69e-b638-43eb-e056-11358f00171c"
      },
      "source": [
        "summaries = \"\".join(rahul_df['text'])\n",
        "ngrams_summaries = vect.build_analyzer()(summaries)\n",
        "\n",
        "Counter(ngrams_summaries).most_common(20)"
      ],
      "execution_count": null,
      "outputs": [
        {
          "output_type": "execute_result",
          "data": {
            "text/plain": [
              "[('दन यक करत', 17),\n",
              " ('सभ भक मन', 17),\n",
              " ('thoughts amp prayers', 15),\n",
              " ('sorry hear passing', 14),\n",
              " ('soul rest peace', 13),\n",
              " ('जर त_म _जव', 13),\n",
              " ('brothers amp sisters', 12),\n",
              " ('good health happiness', 12),\n",
              " ('शत शत नमन', 12),\n",
              " ('बह भक मन', 12),\n",
              " ('आप सभ भक', 12),\n",
              " ('wishes auspicious occasion', 12),\n",
              " ('कर रह https', 12),\n",
              " ('kisan yatra today', 12),\n",
              " ('आप सभ भक मन', 12),\n",
              " ('condolences family friends', 11),\n",
              " ('family time grief', 11),\n",
              " ('बह बह भक', 11),\n",
              " ('best wishes auspicious', 11),\n",
              " ('congress party workers', 11)]"
            ]
          },
          "metadata": {
            "tags": []
          },
          "execution_count": 16
        }
      ]
    },
    {
      "cell_type": "code",
      "metadata": {
        "id": "xTcVBef-4BNZ",
        "colab_type": "code",
        "colab": {
          "base_uri": "https://localhost:8080/",
          "height": 826
        },
        "outputId": "9d5e9e37-58ab-408a-fa45-0699ee008644"
      },
      "source": [
        "pip install textacy"
      ],
      "execution_count": null,
      "outputs": [
        {
          "output_type": "stream",
          "text": [
            "Collecting textacy\n",
            "\u001b[?25l  Downloading https://files.pythonhosted.org/packages/f3/fe/0b57ac1a202de9819e71e8373980d586e824f515ad2f4266e4e98627f8b8/textacy-0.10.0-py3-none-any.whl (206kB)\n",
            "\u001b[K     |████████████████████████████████| 215kB 2.8MB/s \n",
            "\u001b[?25hRequirement already satisfied: tqdm>=4.19.6 in /usr/local/lib/python3.6/dist-packages (from textacy) (4.41.1)\n",
            "Collecting pyphen>=0.9.4\n",
            "\u001b[?25l  Downloading https://files.pythonhosted.org/packages/15/82/08a3629dce8d1f3d91db843bb36d4d7db6b6269d5067259613a0d5c8a9db/Pyphen-0.9.5-py2.py3-none-any.whl (3.0MB)\n",
            "\u001b[K     |████████████████████████████████| 3.0MB 8.8MB/s \n",
            "\u001b[?25hRequirement already satisfied: srsly>=0.0.5 in /usr/local/lib/python3.6/dist-packages (from textacy) (1.0.2)\n",
            "Requirement already satisfied: spacy>=2.2.0 in /usr/local/lib/python3.6/dist-packages (from textacy) (2.2.4)\n",
            "Requirement already satisfied: scikit-learn>=0.19.0 in /usr/local/lib/python3.6/dist-packages (from textacy) (0.22.2.post1)\n",
            "Requirement already satisfied: pyemd>=0.5.0 in /usr/local/lib/python3.6/dist-packages (from textacy) (0.5.1)\n",
            "Collecting cytoolz>=0.8.0\n",
            "\u001b[?25l  Downloading https://files.pythonhosted.org/packages/62/b1/7f16703fe4a497879b1b457adf1e472fad2d4f030477698b16d2febf38bb/cytoolz-0.10.1.tar.gz (475kB)\n",
            "\u001b[K     |████████████████████████████████| 481kB 34.1MB/s \n",
            "\u001b[?25hRequirement already satisfied: cachetools>=2.0.1 in /usr/local/lib/python3.6/dist-packages (from textacy) (3.1.1)\n",
            "Requirement already satisfied: networkx>=2.0 in /usr/local/lib/python3.6/dist-packages (from textacy) (2.4)\n",
            "Requirement already satisfied: joblib>=0.13.0 in /usr/local/lib/python3.6/dist-packages (from textacy) (0.15.1)\n",
            "Requirement already satisfied: scipy>=0.17.0 in /usr/local/lib/python3.6/dist-packages (from textacy) (1.4.1)\n",
            "Requirement already satisfied: requests>=2.10.0 in /usr/local/lib/python3.6/dist-packages (from textacy) (2.23.0)\n",
            "Collecting jellyfish>=0.7.0\n",
            "\u001b[?25l  Downloading https://files.pythonhosted.org/packages/6c/09/927ae35fc5a9f70abb6cc2c27ee88fc48549f7bc4786c1d4b177c22e997d/jellyfish-0.8.2-cp36-cp36m-manylinux2014_x86_64.whl (93kB)\n",
            "\u001b[K     |████████████████████████████████| 102kB 10.9MB/s \n",
            "\u001b[?25hRequirement already satisfied: numpy>=1.17.0 in /usr/local/lib/python3.6/dist-packages (from textacy) (1.18.5)\n",
            "Requirement already satisfied: cymem<2.1.0,>=2.0.2 in /usr/local/lib/python3.6/dist-packages (from spacy>=2.2.0->textacy) (2.0.3)\n",
            "Requirement already satisfied: setuptools in /usr/local/lib/python3.6/dist-packages (from spacy>=2.2.0->textacy) (47.1.1)\n",
            "Requirement already satisfied: wasabi<1.1.0,>=0.4.0 in /usr/local/lib/python3.6/dist-packages (from spacy>=2.2.0->textacy) (0.6.0)\n",
            "Requirement already satisfied: preshed<3.1.0,>=3.0.2 in /usr/local/lib/python3.6/dist-packages (from spacy>=2.2.0->textacy) (3.0.2)\n",
            "Requirement already satisfied: murmurhash<1.1.0,>=0.28.0 in /usr/local/lib/python3.6/dist-packages (from spacy>=2.2.0->textacy) (1.0.2)\n",
            "Requirement already satisfied: plac<1.2.0,>=0.9.6 in /usr/local/lib/python3.6/dist-packages (from spacy>=2.2.0->textacy) (1.1.3)\n",
            "Requirement already satisfied: catalogue<1.1.0,>=0.0.7 in /usr/local/lib/python3.6/dist-packages (from spacy>=2.2.0->textacy) (1.0.0)\n",
            "Requirement already satisfied: thinc==7.4.0 in /usr/local/lib/python3.6/dist-packages (from spacy>=2.2.0->textacy) (7.4.0)\n",
            "Requirement already satisfied: blis<0.5.0,>=0.4.0 in /usr/local/lib/python3.6/dist-packages (from spacy>=2.2.0->textacy) (0.4.1)\n",
            "Requirement already satisfied: toolz>=0.8.0 in /usr/local/lib/python3.6/dist-packages (from cytoolz>=0.8.0->textacy) (0.10.0)\n",
            "Requirement already satisfied: decorator>=4.3.0 in /usr/local/lib/python3.6/dist-packages (from networkx>=2.0->textacy) (4.4.2)\n",
            "Requirement already satisfied: urllib3!=1.25.0,!=1.25.1,<1.26,>=1.21.1 in /usr/local/lib/python3.6/dist-packages (from requests>=2.10.0->textacy) (1.24.3)\n",
            "Requirement already satisfied: idna<3,>=2.5 in /usr/local/lib/python3.6/dist-packages (from requests>=2.10.0->textacy) (2.9)\n",
            "Requirement already satisfied: certifi>=2017.4.17 in /usr/local/lib/python3.6/dist-packages (from requests>=2.10.0->textacy) (2020.4.5.1)\n",
            "Requirement already satisfied: chardet<4,>=3.0.2 in /usr/local/lib/python3.6/dist-packages (from requests>=2.10.0->textacy) (3.0.4)\n",
            "Requirement already satisfied: importlib-metadata>=0.20; python_version < \"3.8\" in /usr/local/lib/python3.6/dist-packages (from catalogue<1.1.0,>=0.0.7->spacy>=2.2.0->textacy) (1.6.0)\n",
            "Requirement already satisfied: zipp>=0.5 in /usr/local/lib/python3.6/dist-packages (from importlib-metadata>=0.20; python_version < \"3.8\"->catalogue<1.1.0,>=0.0.7->spacy>=2.2.0->textacy) (3.1.0)\n",
            "Building wheels for collected packages: cytoolz\n",
            "  Building wheel for cytoolz (setup.py) ... \u001b[?25l\u001b[?25hdone\n",
            "  Created wheel for cytoolz: filename=cytoolz-0.10.1-cp36-cp36m-linux_x86_64.whl size=1233734 sha256=b653be7f8c92fa0e0eb257b23ddd7aa56a31dac4270e251ec50ff32ebb66a634\n",
            "  Stored in directory: /root/.cache/pip/wheels/64/2a/18/d962b614e055577e7d9a3e4813e0742f822ca9c8800cc3783a\n",
            "Successfully built cytoolz\n",
            "Installing collected packages: pyphen, cytoolz, jellyfish, textacy\n",
            "Successfully installed cytoolz-0.10.1 jellyfish-0.8.2 pyphen-0.9.5 textacy-0.10.0\n"
          ],
          "name": "stdout"
        }
      ]
    },
    {
      "cell_type": "code",
      "metadata": {
        "id": "pD1t9nek32Ad",
        "colab_type": "code",
        "colab": {
          "base_uri": "https://localhost:8080/",
          "height": 34
        },
        "outputId": "349b8763-4f3a-4c7b-eb4d-7fadfd1aa095"
      },
      "source": [
        "from textacy.preprocessing import replace, normalize\n",
        "\n",
        "tweet_text = tweets['text'].values\n",
        "clean_text = [replace.replace_currency_symbols(replace.replace_phone_numbers(replace.replace_emails(replace.replace_urls(normalize.normalize_unicode(x).lower())))) for x in tweet_text]\n",
        "print(len(clean_text))"
      ],
      "execution_count": null,
      "outputs": [
        {
          "output_type": "stream",
          "text": [
            "5327\n"
          ],
          "name": "stdout"
        }
      ]
    },
    {
      "cell_type": "code",
      "metadata": {
        "id": "dpGkLX_g8Em8",
        "colab_type": "code",
        "colab": {
          "base_uri": "https://localhost:8080/",
          "height": 238
        },
        "outputId": "e7299e84-3740-4531-f4e4-7ba0dd59e7af"
      },
      "source": [
        "print(tweet_text[:10])\n",
        "print('---------------------')\n",
        "print(clean_text[:10])"
      ],
      "execution_count": null,
      "outputs": [
        {
          "output_type": "stream",
          "text": [
            "['This lock down proves that:\\n\\n“The only thing more dangerous than ignorance is arrogance.”\\nAlbert Einstein https://t.co/XkykIxsYKI'\n",
            " 'I am sorry to hear about the passing of #SushantSinghRajput. A young &amp; talented actor, gone too soon. My condolences to his family, friends &amp; fans across the world.'\n",
            " 'If GOI doesn’t inject cash to start the economy now: \\n\\n1. The poor will be decimated.\\n2. The middle class will become the new poor.\\n3. Crony capitalists will own the entire country. https://t.co/fEmEKONOMF'\n",
            " '”Insanity is doing the same thing over and over again and expecting different results.” - Anonymous https://t.co/tdkS3dK8qm'\n",
            " \"India is firmly on it's way to winning the wrong race. \\n\\nA horrific tragedy, resulting from a lethal blend of arrogance and incompetence. https://t.co/NB2OzXPGCX\"\n",
            " 'WATCH: In conversation with Ambassador Nicholas Burnson the Covid19 crisis. https://t.co/qXkUbx2mxx'\n",
            " 'Today, at 10:00 AM onwards, watch me discuss with Ambassador Nicholas Burns, Professor of Diplomacy &amp; International Relations at Harvard, how the COVID crisis is reshaping the world order. https://t.co/Gqn6HPYrIB'\n",
            " 'Tomorrow, Friday, 12th June, 10 AM onwards, join my conversation with Ambassador Nicholas Burns on how the Covid crisis is reshaping the world order, across all my social media platforms. https://t.co/qIkWUbxxBg'\n",
            " 'The Chinese have walked in and taken our territory in Ladakh.\\n\\nMeanwhile\\n\\nThe PM is absolutely silent and has vanished from the scene.\\n\\nhttps://t.co/Cv06T6aMvU'\n",
            " 'For the millions of my sisters and brothers like Ajay, we share your pain. We will do everything to protect you. \\n\\nWe will overcome this together. \\n\\n#SpeakUpDelhi https://t.co/gO6mWD1F5h']\n",
            "---------------------\n",
            "['this lock down proves that:\\n\\n“the only thing more dangerous than ignorance is arrogance.”\\nalbert einstein _URL_', 'i am sorry to hear about the passing of #sushantsinghrajput. a young &amp; talented actor, gone too soon. my condolences to his family, friends &amp; fans across the world.', 'if goi doesn’t inject cash to start the economy now: \\n\\n1. the poor will be decimated.\\n2. the middle class will become the new poor.\\n3. crony capitalists will own the entire country. _URL_', '”insanity is doing the same thing over and over again and expecting different results.” - anonymous _URL_', \"india is firmly on it's way to winning the wrong race. \\n\\na horrific tragedy, resulting from a lethal blend of arrogance and incompetence. _URL_\", 'watch: in conversation with ambassador nicholas burnson the covid19 crisis. _URL_', 'today, at 10:00 am onwards, watch me discuss with ambassador nicholas burns, professor of diplomacy &amp; international relations at harvard, how the covid crisis is reshaping the world order. _URL_', 'tomorrow, friday, 12th june, 10 am onwards, join my conversation with ambassador nicholas burns on how the covid crisis is reshaping the world order, across all my social media platforms. _URL_', 'the chinese have walked in and taken our territory in ladakh.\\n\\nmeanwhile\\n\\nthe pm is absolutely silent and has vanished from the scene.\\n\\n_URL_', 'for the millions of my sisters and brothers like ajay, we share your pain. we will do everything to protect you. \\n\\nwe will overcome this together. \\n\\n#speakupdelhi _URL_']\n"
          ],
          "name": "stdout"
        }
      ]
    },
    {
      "cell_type": "code",
      "metadata": {
        "id": "RHMHBmiAyRL8",
        "colab_type": "code",
        "colab": {
          "base_uri": "https://localhost:8080/",
          "height": 34
        },
        "outputId": "de3ad91d-261a-4d24-8e06-54b9d0944a0a"
      },
      "source": [
        "y = tweets['handle'].map(lambda x: 1 if x == 'RahulGandhi' else 0).values\n",
        "print(max(pd.Series(y).value_counts(normalize=True)))"
      ],
      "execution_count": null,
      "outputs": [
        {
          "output_type": "stream",
          "text": [
            "0.5226206119767224\n"
          ],
          "name": "stdout"
        }
      ]
    },
    {
      "cell_type": "code",
      "metadata": {
        "id": "lSwWD7C2zGrX",
        "colab_type": "code",
        "colab": {
          "base_uri": "https://localhost:8080/",
          "height": 34
        },
        "outputId": "498d62ee-af67-4722-ee8d-686e658f78a8"
      },
      "source": [
        "from sklearn.linear_model import LogisticRegression\n",
        "import numpy as np\n",
        "\n",
        "tfv = TfidfVectorizer(ngram_range=(2, 4), stop_words='english', max_features=2000)\n",
        "X = tfv.fit_transform(clean_text).todense()\n",
        "print(X.shape)"
      ],
      "execution_count": null,
      "outputs": [
        {
          "output_type": "stream",
          "text": [
            "(5327, 2000)\n"
          ],
          "name": "stdout"
        }
      ]
    },
    {
      "cell_type": "code",
      "metadata": {
        "id": "Ebh9NPa2qVue",
        "colab_type": "code",
        "colab": {
          "base_uri": "https://localhost:8080/",
          "height": 386
        },
        "outputId": "74e1f440-29e9-4a5a-e0e0-158e9b2c1fee"
      },
      "source": [
        "from sklearn.model_selection import GridSearchCV\n",
        "\n",
        "lr = LogisticRegression()\n",
        "params = {'penalty' : ['l2'], 'C' : np.logspace(-5, 0, 100)}\n",
        "gsv = GridSearchCV(lr, param_grid = params, cv=10, verbose=1)\n",
        "gsv.fit(X, y)"
      ],
      "execution_count": null,
      "outputs": [
        {
          "output_type": "stream",
          "text": [
            "Fitting 10 folds for each of 100 candidates, totalling 1000 fits\n"
          ],
          "name": "stdout"
        },
        {
          "output_type": "stream",
          "text": [
            "[Parallel(n_jobs=1)]: Using backend SequentialBackend with 1 concurrent workers.\n",
            "[Parallel(n_jobs=1)]: Done 1000 out of 1000 | elapsed:  3.2min finished\n"
          ],
          "name": "stderr"
        },
        {
          "output_type": "execute_result",
          "data": {
            "text/plain": [
              "GridSearchCV(cv=10, error_score=nan,\n",
              "             estimator=LogisticRegression(C=1.0, class_weight=None, dual=False,\n",
              "                                          fit_intercept=True,\n",
              "                                          intercept_scaling=1, l1_ratio=None,\n",
              "                                          max_iter=100, multi_class='auto',\n",
              "                                          n_jobs=None, penalty='l2',\n",
              "                                          random_state=None, solver='lbfgs',\n",
              "                                          tol=0.0001, verbose=0,\n",
              "                                          warm_start=False),\n",
              "             iid='deprecated', n_jobs=None,\n",
              "             param_grid={'C': array([1.00000000e-05, 1....\n",
              "       1.09749877e-01, 1.23284674e-01, 1.38488637e-01, 1.55567614e-01,\n",
              "       1.74752840e-01, 1.96304065e-01, 2.20513074e-01, 2.47707636e-01,\n",
              "       2.78255940e-01, 3.12571585e-01, 3.51119173e-01, 3.94420606e-01,\n",
              "       4.43062146e-01, 4.97702356e-01, 5.59081018e-01, 6.28029144e-01,\n",
              "       7.05480231e-01, 7.92482898e-01, 8.90215085e-01, 1.00000000e+00]),\n",
              "                         'penalty': ['l2']},\n",
              "             pre_dispatch='2*n_jobs', refit=True, return_train_score=False,\n",
              "             scoring=None, verbose=1)"
            ]
          },
          "metadata": {
            "tags": []
          },
          "execution_count": 43
        }
      ]
    },
    {
      "cell_type": "code",
      "metadata": {
        "id": "HHLOYJvysBIZ",
        "colab_type": "code",
        "colab": {
          "base_uri": "https://localhost:8080/",
          "height": 50
        },
        "outputId": "4e53b155-3388-484f-84e7-0cb9448193ce"
      },
      "source": [
        "print(gsv.best_params_)\n",
        "print(gsv.best_score_)"
      ],
      "execution_count": null,
      "outputs": [
        {
          "output_type": "stream",
          "text": [
            "{'C': 0.8902150854450392, 'penalty': 'l2'}\n",
            "0.7527715865649114\n"
          ],
          "name": "stdout"
        }
      ]
    },
    {
      "cell_type": "code",
      "metadata": {
        "id": "gEu-SLbZvc2N",
        "colab_type": "code",
        "colab": {
          "base_uri": "https://localhost:8080/",
          "height": 106
        },
        "outputId": "b0eb8f26-51fe-4799-dbb7-93f8ee6dcfc8"
      },
      "source": [
        "estimator = LogisticRegression(penalty='l2', C=1)\n",
        "estimator.fit(X, y)\n",
        "\n",
        "source_test=[\n",
        "             'Sushant Singh Rajput...a bright young actor gone too soon. He excelled on TV and in films. His rise in the world of entertainment inspired many and he leaves behind several memorable performances. Shocked by his passing away. My thoughts are with his family and fans. Om Shanti.',\n",
        "             'I am sorry to hear about the passing of #SushantSinghRajput. A young & talented actor, gone too soon. My condolences to his family, friends & fans across the world.'\n",
        "]\n",
        "XTest = tfv.transform(source_test)\n",
        "pd.DataFrame(estimator.predict_proba(XTest), columns=['modi', 'rahul'])"
      ],
      "execution_count": null,
      "outputs": [
        {
          "output_type": "execute_result",
          "data": {
            "text/html": [
              "<div>\n",
              "<style scoped>\n",
              "    .dataframe tbody tr th:only-of-type {\n",
              "        vertical-align: middle;\n",
              "    }\n",
              "\n",
              "    .dataframe tbody tr th {\n",
              "        vertical-align: top;\n",
              "    }\n",
              "\n",
              "    .dataframe thead th {\n",
              "        text-align: right;\n",
              "    }\n",
              "</style>\n",
              "<table border=\"1\" class=\"dataframe\">\n",
              "  <thead>\n",
              "    <tr style=\"text-align: right;\">\n",
              "      <th></th>\n",
              "      <th>modi</th>\n",
              "      <th>rahul</th>\n",
              "    </tr>\n",
              "  </thead>\n",
              "  <tbody>\n",
              "    <tr>\n",
              "      <th>0</th>\n",
              "      <td>0.790578</td>\n",
              "      <td>0.209422</td>\n",
              "    </tr>\n",
              "    <tr>\n",
              "      <th>1</th>\n",
              "      <td>0.115952</td>\n",
              "      <td>0.884048</td>\n",
              "    </tr>\n",
              "  </tbody>\n",
              "</table>\n",
              "</div>"
            ],
            "text/plain": [
              "       modi     rahul\n",
              "0  0.790578  0.209422\n",
              "1  0.115952  0.884048"
            ]
          },
          "metadata": {
            "tags": []
          },
          "execution_count": 55
        }
      ]
    },
    {
      "cell_type": "code",
      "metadata": {
        "id": "fc8V9i2hzCOg",
        "colab_type": "code",
        "colab": {
          "base_uri": "https://localhost:8080/",
          "height": 134
        },
        "outputId": "a62dd03a-46a4-45e3-d5b6-8ca763dc17c0"
      },
      "source": [
        "estimator.predict_proba(X)"
      ],
      "execution_count": null,
      "outputs": [
        {
          "output_type": "execute_result",
          "data": {
            "text/plain": [
              "array([[0.48442862, 0.51557138],\n",
              "       [0.1038346 , 0.8961654 ],\n",
              "       [0.35525051, 0.64474949],\n",
              "       ...,\n",
              "       [0.79021864, 0.20978136],\n",
              "       [0.76132541, 0.23867459],\n",
              "       [0.9093638 , 0.0906362 ]])"
            ]
          },
          "metadata": {
            "tags": []
          },
          "execution_count": 56
        }
      ]
    },
    {
      "cell_type": "code",
      "metadata": {
        "id": "lce0SPTZzUPF",
        "colab_type": "code",
        "colab": {
          "base_uri": "https://localhost:8080/",
          "height": 402
        },
        "outputId": "73186836-ecf0-467e-c23a-00516d7ac8b5"
      },
      "source": [
        "Probas_x = pd.DataFrame(estimator.predict_proba(X), columns=[\"modi\", \"rahul\"])\n",
        "joined_x = pd.merge(tweets, Probas_x, left_index=True, right_index=True)\n",
        "joined_x"
      ],
      "execution_count": null,
      "outputs": [
        {
          "output_type": "execute_result",
          "data": {
            "text/html": [
              "<div>\n",
              "<style scoped>\n",
              "    .dataframe tbody tr th:only-of-type {\n",
              "        vertical-align: middle;\n",
              "    }\n",
              "\n",
              "    .dataframe tbody tr th {\n",
              "        vertical-align: top;\n",
              "    }\n",
              "\n",
              "    .dataframe thead th {\n",
              "        text-align: right;\n",
              "    }\n",
              "</style>\n",
              "<table border=\"1\" class=\"dataframe\">\n",
              "  <thead>\n",
              "    <tr style=\"text-align: right;\">\n",
              "      <th></th>\n",
              "      <th>tweet_id</th>\n",
              "      <th>handle</th>\n",
              "      <th>retweet_count</th>\n",
              "      <th>text</th>\n",
              "      <th>mined_at</th>\n",
              "      <th>created_at</th>\n",
              "      <th>modi</th>\n",
              "      <th>rahul</th>\n",
              "    </tr>\n",
              "  </thead>\n",
              "  <tbody>\n",
              "    <tr>\n",
              "      <th>0</th>\n",
              "      <td>1272418097505300481</td>\n",
              "      <td>RahulGandhi</td>\n",
              "      <td>5562</td>\n",
              "      <td>This lock down proves that:\\n\\n“The only thing...</td>\n",
              "      <td>2020-06-15 08:53:50.745777</td>\n",
              "      <td>Mon Jun 15 06:38:09 +0000 2020</td>\n",
              "      <td>0.484429</td>\n",
              "      <td>0.515571</td>\n",
              "    </tr>\n",
              "    <tr>\n",
              "      <th>0</th>\n",
              "      <td>1272114642039345153</td>\n",
              "      <td>narendramodi</td>\n",
              "      <td>50560</td>\n",
              "      <td>Sushant Singh Rajput...a bright young actor go...</td>\n",
              "      <td>2020-06-15 08:53:55.963614</td>\n",
              "      <td>Sun Jun 14 10:32:20 +0000 2020</td>\n",
              "      <td>0.484429</td>\n",
              "      <td>0.515571</td>\n",
              "    </tr>\n",
              "    <tr>\n",
              "      <th>1</th>\n",
              "      <td>1272167327459508224</td>\n",
              "      <td>RahulGandhi</td>\n",
              "      <td>11063</td>\n",
              "      <td>I am sorry to hear about the passing of #Susha...</td>\n",
              "      <td>2020-06-15 08:53:50.745795</td>\n",
              "      <td>Sun Jun 14 14:01:41 +0000 2020</td>\n",
              "      <td>0.103835</td>\n",
              "      <td>0.896165</td>\n",
              "    </tr>\n",
              "    <tr>\n",
              "      <th>1</th>\n",
              "      <td>1272034972866473985</td>\n",
              "      <td>narendramodi</td>\n",
              "      <td>2536</td>\n",
              "      <td>Greetings on the very special festival of Raja...</td>\n",
              "      <td>2020-06-15 08:53:55.963629</td>\n",
              "      <td>Sun Jun 14 05:15:45 +0000 2020</td>\n",
              "      <td>0.103835</td>\n",
              "      <td>0.896165</td>\n",
              "    </tr>\n",
              "    <tr>\n",
              "      <th>2</th>\n",
              "      <td>1271798133933010944</td>\n",
              "      <td>RahulGandhi</td>\n",
              "      <td>9719</td>\n",
              "      <td>If GOI doesn’t inject cash to start the econom...</td>\n",
              "      <td>2020-06-15 08:53:50.745798</td>\n",
              "      <td>Sat Jun 13 13:34:38 +0000 2020</td>\n",
              "      <td>0.355251</td>\n",
              "      <td>0.644749</td>\n",
              "    </tr>\n",
              "    <tr>\n",
              "      <th>...</th>\n",
              "      <td>...</td>\n",
              "      <td>...</td>\n",
              "      <td>...</td>\n",
              "      <td>...</td>\n",
              "      <td>...</td>\n",
              "      <td>...</td>\n",
              "      <td>...</td>\n",
              "      <td>...</td>\n",
              "    </tr>\n",
              "    <tr>\n",
              "      <th>2779</th>\n",
              "      <td>1145572257051246592</td>\n",
              "      <td>narendramodi</td>\n",
              "      <td>1501</td>\n",
              "      <td>The accident in Jammu and Kashmir's Kishtwar i...</td>\n",
              "      <td>2020-06-15 08:54:01.448167</td>\n",
              "      <td>Mon Jul 01 05:58:04 +0000 2019</td>\n",
              "      <td>0.661192</td>\n",
              "      <td>0.338808</td>\n",
              "    </tr>\n",
              "    <tr>\n",
              "      <th>2780</th>\n",
              "      <td>1145543315682680836</td>\n",
              "      <td>narendramodi</td>\n",
              "      <td>2602</td>\n",
              "      <td>The @_DigitalIndia initiative is a people’s mo...</td>\n",
              "      <td>2020-06-15 08:54:01.448169</td>\n",
              "      <td>Mon Jul 01 04:03:04 +0000 2019</td>\n",
              "      <td>0.484429</td>\n",
              "      <td>0.515571</td>\n",
              "    </tr>\n",
              "    <tr>\n",
              "      <th>2781</th>\n",
              "      <td>1145543068424331264</td>\n",
              "      <td>narendramodi</td>\n",
              "      <td>2571</td>\n",
              "      <td>On this day, 4 years ago @_DigitalIndia was la...</td>\n",
              "      <td>2020-06-15 08:54:01.448171</td>\n",
              "      <td>Mon Jul 01 04:02:05 +0000 2019</td>\n",
              "      <td>0.835568</td>\n",
              "      <td>0.164432</td>\n",
              "    </tr>\n",
              "    <tr>\n",
              "      <th>2782</th>\n",
              "      <td>1145520053242257408</td>\n",
              "      <td>narendramodi</td>\n",
              "      <td>1186</td>\n",
              "      <td>Heard the #MannKiBaat yesterday? \\n\\nDo take p...</td>\n",
              "      <td>2020-06-15 08:54:01.448173</td>\n",
              "      <td>Mon Jul 01 02:30:38 +0000 2019</td>\n",
              "      <td>0.914580</td>\n",
              "      <td>0.085420</td>\n",
              "    </tr>\n",
              "    <tr>\n",
              "      <th>2783</th>\n",
              "      <td>1145519556598861824</td>\n",
              "      <td>narendramodi</td>\n",
              "      <td>2240</td>\n",
              "      <td>Greetings to the Vice President of India, Shri...</td>\n",
              "      <td>2020-06-15 08:54:01.448176</td>\n",
              "      <td>Mon Jul 01 02:28:39 +0000 2019</td>\n",
              "      <td>0.751251</td>\n",
              "      <td>0.248749</td>\n",
              "    </tr>\n",
              "  </tbody>\n",
              "</table>\n",
              "<p>5327 rows × 8 columns</p>\n",
              "</div>"
            ],
            "text/plain": [
              "                 tweet_id        handle  ...      modi     rahul\n",
              "0     1272418097505300481   RahulGandhi  ...  0.484429  0.515571\n",
              "0     1272114642039345153  narendramodi  ...  0.484429  0.515571\n",
              "1     1272167327459508224   RahulGandhi  ...  0.103835  0.896165\n",
              "1     1272034972866473985  narendramodi  ...  0.103835  0.896165\n",
              "2     1271798133933010944   RahulGandhi  ...  0.355251  0.644749\n",
              "...                   ...           ...  ...       ...       ...\n",
              "2779  1145572257051246592  narendramodi  ...  0.661192  0.338808\n",
              "2780  1145543315682680836  narendramodi  ...  0.484429  0.515571\n",
              "2781  1145543068424331264  narendramodi  ...  0.835568  0.164432\n",
              "2782  1145520053242257408  narendramodi  ...  0.914580  0.085420\n",
              "2783  1145519556598861824  narendramodi  ...  0.751251  0.248749\n",
              "\n",
              "[5327 rows x 8 columns]"
            ]
          },
          "metadata": {
            "tags": []
          },
          "execution_count": 57
        }
      ]
    },
    {
      "cell_type": "code",
      "metadata": {
        "id": "oqMddjvZ4dhj",
        "colab_type": "code",
        "colab": {
          "base_uri": "https://localhost:8080/",
          "height": 118
        },
        "outputId": "2708c422-c8f7-4d7e-f63f-d79f9bda6391"
      },
      "source": [
        "joined_rahul = joined_x[joined_x['handle']==\"RahulGandhi\"]\n",
        "for el in joined_rahul[joined_rahul['rahul']==max(joined_rahul['rahul'])]['text']:\n",
        "    print(el)"
      ],
      "execution_count": null,
      "outputs": [
        {
          "output_type": "stream",
          "text": [
            "August 2015, Mr Modi claims to create history by signing the NAGA accord. \n",
            "\n",
            "Feb 2018, Naga Accord is still nowhere to be found. \n",
            "\n",
            "Modi ji is the first ever Indian PM whose words don't mean anything. \n",
            "#CantFindTheAccord\n"
          ],
          "name": "stdout"
        }
      ]
    },
    {
      "cell_type": "code",
      "metadata": {
        "id": "Xh_yCyBG4oFv",
        "colab_type": "code",
        "colab": {
          "base_uri": "https://localhost:8080/",
          "height": 101
        },
        "outputId": "6eaf3e26-e4b4-4d60-81c2-cf17f0e7826f"
      },
      "source": [
        "for el in joined_rahul[joined_rahul['rahul']==min(joined_rahul['rahul'])]['text']:\n",
        "    print(el)"
      ],
      "execution_count": null,
      "outputs": [
        {
          "output_type": "stream",
          "text": [
            "I shot this little video of Shri Prahlad Tipaniya, more familiarly known as Sahab Bandgi, our candidate in Devas, MP...\n",
            "\n",
            "He uses folk songs to connect with the audience and his campaigning style is a treat to watch! https://t.co/BgeMg4BLCm\n",
            "कांग्रेस पार्टी किसानों के दुःख को समझती है, लेकिन जब मोदीजी की सरकार आई तो वो देश के किसानों को भूल गये! Watch:\n",
            "https://t.co/0DSbEW7VsU\n"
          ],
          "name": "stdout"
        }
      ]
    },
    {
      "cell_type": "code",
      "metadata": {
        "id": "HYejk5xQ5PEK",
        "colab_type": "code",
        "colab": {
          "base_uri": "https://localhost:8080/",
          "height": 222
        },
        "outputId": "a9066646-fbdb-4b61-933c-5e242daa1896"
      },
      "source": [
        "joined_modi = joined_x[joined_x['handle']==\"narendramodi\"]\n",
        "for el in joined_modi[joined_modi['modi']==max(joined_modi['modi'])]['text']:\n",
        "    print(el)"
      ],
      "execution_count": null,
      "outputs": [
        {
          "output_type": "stream",
          "text": [
            "आज #स्वतंत्रतादिवस के शुभ अवसर पर मैंने राजघाट पर पूज्य बापू को श्रद्धांजलि अर्पित की। https://t.co/TiN2cmk67V\n",
            "We welcome today’s verdict in the @CIJ_ICJ. Truth and justice have prevailed. Congratulations to the ICJ for a verdict based on extensive study of facts. I am sure Kulbhushan Jadhav will get justice.\n",
            "\n",
            "Our Government will always work for the safety and welfare of every Indian.\n",
            "Planted a tree by placing a Matka underground and filling it with water.\n",
            "\n",
            "This is an easy and effective way to create a greener tomorrow. \n",
            "\n",
            "I had also written about this method on my blog back in 2011. Sharing it once again. \n",
            "\n",
            "https://t.co/UTwjWqBSsf https://t.co/h93fiW6TvP\n"
          ],
          "name": "stdout"
        }
      ]
    },
    {
      "cell_type": "code",
      "metadata": {
        "id": "022le3Cr5dDR",
        "colab_type": "code",
        "colab": {
          "base_uri": "https://localhost:8080/",
          "height": 34
        },
        "outputId": "f6de1448-a995-4793-a792-5f190ff559c1"
      },
      "source": [
        "for el in joined_modi[joined_modi['modi']==min(joined_modi['modi'])]['text']:\n",
        "    print(el)"
      ],
      "execution_count": null,
      "outputs": [
        {
          "output_type": "stream",
          "text": [
            "Speaking on 'Globalising Indian Thought.' Watch https://t.co/Ta82teOBXS\n"
          ],
          "name": "stdout"
        }
      ]
    }
  ]
}